{
  "nbformat": 4,
  "nbformat_minor": 0,
  "metadata": {
    "colab": {
      "name": "Image Classification using LeNet CNN architecture.ipynb",
      "provenance": []
    },
    "kernelspec": {
      "name": "python3",
      "display_name": "Python 3"
    },
    "language_info": {
      "name": "python"
    }
  },
  "cells": [
    {
      "cell_type": "code",
      "metadata": {
        "id": "H5D5RclmoxRG"
      },
      "source": [
        "import torch\n",
        "import matplotlib.pyplot as plt\n",
        "import numpy as np\n",
        "import torchvision\n",
        "import torchvision.transforms as transforms\n",
        "import torch.nn as nn\n",
        "import torch.optim as optim"
      ],
      "execution_count": 20,
      "outputs": []
    },
    {
      "cell_type": "markdown",
      "metadata": {
        "id": "9pvToRlDpTrG"
      },
      "source": [
        "#Downloading Data"
      ]
    },
    {
      "cell_type": "code",
      "metadata": {
        "colab": {
          "base_uri": "https://localhost:8080/"
        },
        "id": "YVPT4odHpYIN",
        "outputId": "f18f4b1d-7aa5-4cdc-fd76-eb296304f924"
      },
      "source": [
        "trainset = torchvision.datasets.CIFAR10(root='./data', train=True,download=True,transform=transforms.ToTensor())\n",
        "classes = ('plane', 'car', 'bird', 'cat', 'deer', 'dog', 'frog', 'horse', 'ship', 'truck')\n",
        "trainloader = torch.utils.data.DataLoader(trainset, batch_size=128, shuffle=True)\n",
        "testset = torchvision.datasets.CIFAR10(root='./data', train=False, download=True, transform=transforms.ToTensor())\n",
        "testloader = torch.utils.data.DataLoader(testset, batch_size=128, shuffle=False)"
      ],
      "execution_count": 21,
      "outputs": [
        {
          "output_type": "stream",
          "text": [
            "Files already downloaded and verified\n",
            "Files already downloaded and verified\n"
          ],
          "name": "stdout"
        }
      ]
    },
    {
      "cell_type": "markdown",
      "metadata": {
        "id": "lnzQD80AqDmw"
      },
      "source": [
        "# Data Loader"
      ]
    },
    {
      "cell_type": "code",
      "metadata": {
        "id": "PhNL9h2ZwjR0"
      },
      "source": [
        "dataiter = iter(trainloader)\n",
        "images, labels = dataiter.next()\n",
        "'''for i,l in zip(images,labels):\n",
        "  npimg = i.numpy()\n",
        "  npimg = np.transpose(npimg, (1, 2, 0))\n",
        "  plt.figure(figsize = (1,1))\n",
        "  plt.imshow(npimg)\n",
        "  plt.show()\n",
        "  print(classes[l.item()])'''"
      ],
      "execution_count": null,
      "outputs": []
    },
    {
      "cell_type": "markdown",
      "metadata": {
        "id": "vuS7Y9Nc0Zw3"
      },
      "source": [
        "# LeNet CNN Architecture"
      ]
    },
    {
      "cell_type": "code",
      "metadata": {
        "id": "ShhofJtc0dc6"
      },
      "source": [
        "class LeNet(nn.Module):\n",
        "    def __init__(self): \n",
        "        super(LeNet, self).__init__()\n",
        "        self.cnn_model = nn.Sequential(\n",
        "            nn.Conv2d(3, 6, 5),         # (N, 3, 32, 32) -> (N,  6, 28, 28)\n",
        "            nn.Tanh(),\n",
        "            nn.AvgPool2d(2, stride=2),  # (N, 6, 28, 28) -> (N,  6, 14, 14)\n",
        "            nn.Conv2d(6, 16, 5),        # (N, 6, 14, 14) -> (N, 16, 10, 10)  \n",
        "            nn.Tanh(),\n",
        "            nn.AvgPool2d(2, stride=2)   # (N,16, 10, 10) -> (N, 16, 5, 5)\n",
        "        )\n",
        "        self.fc_model = nn.Sequential(\n",
        "            nn.Linear(400,120),         # (N, 400) -> (N, 120)\n",
        "            nn.Tanh(),\n",
        "            nn.Linear(120,84),          # (N, 120) -> (N, 84)\n",
        "            nn.Tanh(),\n",
        "            nn.Linear(84,10)            # (N, 84)  -> (N, 10)\n",
        "        )\n",
        "        \n",
        "    def forward(self, x):\n",
        "        x = self.cnn_model(x)\n",
        "        x = x.view(x.size(0), -1)\n",
        "        x = self.fc_model(x)\n",
        "        return x"
      ],
      "execution_count": 19,
      "outputs": []
    },
    {
      "cell_type": "markdown",
      "metadata": {
        "id": "PCVfvomN4XmF"
      },
      "source": [
        "#Accuracy Evaluation"
      ]
    },
    {
      "cell_type": "code",
      "metadata": {
        "id": "WBuNOznT4bCr"
      },
      "source": [
        "def evaluation(dataloader):\n",
        "    total, correct = 0, 0\n",
        "    for data in dataloader:\n",
        "        inputs, labels = data\n",
        "        outputs = ln(inputs)\n",
        "        _, pred = torch.max(outputs.data, 1)        \n",
        "        total += labels.size(0)\n",
        "        correct += (pred == labels).sum().item()\n",
        "    \n",
        "    return 100 * correct / total"
      ],
      "execution_count": 32,
      "outputs": []
    },
    {
      "cell_type": "markdown",
      "metadata": {
        "id": "qPixDPwW2oYM"
      },
      "source": [
        "#Training and Testing Module"
      ]
    },
    {
      "cell_type": "code",
      "metadata": {
        "id": "RPEVpWJD2riP"
      },
      "source": [
        "def train(model,epochs=16):\n",
        "  loss_fn = nn.CrossEntropyLoss()\n",
        "  opt = optim.Adam(model.parameters())\n",
        "  loss_epoch_arr=[]\n",
        "  for epoch in range(epochs):\n",
        "    for i, data in enumerate(trainloader, 0):\n",
        "        inputs, labels = data\n",
        "        opt.zero_grad()\n",
        "        outputs = model(inputs)\n",
        "        loss = loss_fn(outputs, labels)\n",
        "        loss.backward()\n",
        "        opt.step()        \n",
        "        \n",
        "        \n",
        "    loss_epoch_arr.append(loss.item())\n",
        "        \n",
        "    print('Epoch: %d, Test acc: %0.2f, Train acc: %0.2f' % (epoch, evaluation(testloader), evaluation(trainloader)))\n",
        "  plt.plot(loss_epoch_arr)\n",
        "  plt.show()\n",
        "    \n",
        "    \n"
      ],
      "execution_count": 36,
      "outputs": []
    },
    {
      "cell_type": "code",
      "metadata": {
        "colab": {
          "base_uri": "https://localhost:8080/",
          "height": 534
        },
        "id": "Y60tpp4O522h",
        "outputId": "58ecf64d-b269-4d15-89f3-fe742d7d2fab"
      },
      "source": [
        "ln=LeNet()\n",
        "train(ln)"
      ],
      "execution_count": 37,
      "outputs": [
        {
          "output_type": "stream",
          "text": [
            "Epoch: 0, Test acc: 39.55, Train acc: 39.20\n",
            "Epoch: 1, Test acc: 43.29, Train acc: 43.69\n",
            "Epoch: 2, Test acc: 46.85, Train acc: 47.71\n",
            "Epoch: 3, Test acc: 48.64, Train acc: 50.18\n",
            "Epoch: 4, Test acc: 50.52, Train acc: 51.84\n",
            "Epoch: 5, Test acc: 51.97, Train acc: 54.45\n",
            "Epoch: 6, Test acc: 53.13, Train acc: 56.72\n",
            "Epoch: 7, Test acc: 53.70, Train acc: 57.56\n",
            "Epoch: 8, Test acc: 54.47, Train acc: 59.16\n",
            "Epoch: 9, Test acc: 54.95, Train acc: 60.17\n",
            "Epoch: 10, Test acc: 55.05, Train acc: 60.88\n",
            "Epoch: 11, Test acc: 55.18, Train acc: 62.03\n",
            "Epoch: 12, Test acc: 55.23, Train acc: 62.81\n",
            "Epoch: 13, Test acc: 55.10, Train acc: 63.27\n",
            "Epoch: 14, Test acc: 55.69, Train acc: 64.01\n",
            "Epoch: 15, Test acc: 55.32, Train acc: 64.16\n"
          ],
          "name": "stdout"
        },
        {
          "output_type": "display_data",
          "data": {
            "image/png": "[encoded data removed]",
            "text/plain": [
              "<Figure size 432x288 with 1 Axes>"
            ]
          },
          "metadata": {
            "needs_background": "light"
          }
        }
      ]
    }
  ]
}